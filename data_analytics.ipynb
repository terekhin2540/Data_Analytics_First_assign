{
 "cells": [
  {
   "cell_type": "code",
   "execution_count": 1,
   "id": "d4848540-deab-466c-96ce-60a62df3dd44",
   "metadata": {},
   "outputs": [],
   "source": [
    "import pandas as pd\n",
    "import numpy as np\n",
    "import datetime\n",
    "from datetime import datetime\n",
    "import calendar\n",
    "import os\n",
    "import matplotlib.pyplot as plt"
   ]
  },
  {
   "cell_type": "code",
   "execution_count": 13,
   "id": "8ab3c305-79de-4936-8b76-3cc2a3b565e5",
   "metadata": {},
   "outputs": [
    {
     "name": "stdout",
     "output_type": "stream",
     "text": [
      "total 16\n",
      "drwxr-xr-x@  6 terekhind  staff   192 Mar  7 12:52 \u001b[34m.\u001b[m\u001b[m\n",
      "drwxr-xr-x  18 terekhind  staff   576 Mar  7 12:44 \u001b[34m..\u001b[m\u001b[m\n",
      "drwxr-xr-x@ 13 terekhind  staff   416 Mar  7 12:44 \u001b[34m.git\u001b[m\u001b[m\n",
      "drwxr-xr-x@  3 terekhind  staff    96 Mar  7 12:45 \u001b[34m.ipynb_checkpoints\u001b[m\u001b[m\n",
      "-rw-r--r--@  1 terekhind  staff    29 Mar  7 12:44 README.md\n",
      "-rw-r--r--@  1 terekhind  staff  3236 Mar  7 12:52 data_analytics.ipynb\n"
     ]
    }
   ],
   "source": [
    "! ls -la"
   ]
  },
  {
   "cell_type": "code",
   "execution_count": 16,
   "id": "f9339d3b-27bb-4485-8ba0-2043b5fe05fe",
   "metadata": {},
   "outputs": [],
   "source": [
    "path = '../01_Blog_Feedback'"
   ]
  },
  {
   "cell_type": "code",
   "execution_count": 75,
   "id": "1bbc880a-eab3-4888-8dd1-589e2c0e9a84",
   "metadata": {},
   "outputs": [],
   "source": [
    "def get_files(path, test_dataset = False):\n",
    "    df = pd.DataFrame()\n",
    "    \n",
    "    for filename in os.listdir(path):\n",
    "        \n",
    "        if test_dataset is True:\n",
    "            if filename in ['blogData_train.csv', 'README.txt']:\n",
    "                pass\n",
    "            else:\n",
    "                file = os.path.join(path, filename)\n",
    "                temporaly_df = pd.read_csv(f'{file}', header=None)\n",
    "                df = pd.concat([df, temporaly_df], ignore_index=True)\n",
    "                \n",
    "        else:\n",
    "            if filename == 'blogData_train.csv':\n",
    "                file = os.path.join(path, filename)\n",
    "                df = pd.read_csv(f'{file}', header=None)\n",
    "    return df\n",
    "                "
   ]
  },
  {
   "cell_type": "code",
   "execution_count": 76,
   "id": "a26de3f4-1160-4e91-b025-75e45a0a6dc3",
   "metadata": {},
   "outputs": [],
   "source": [
    "df_train = get_files(path) # Train dataset"
   ]
  },
  {
   "cell_type": "code",
   "execution_count": 77,
   "id": "bb5a937e-930c-4e2e-b5e5-c6c7e1dbf6c5",
   "metadata": {},
   "outputs": [
    {
     "data": {
      "text/plain": [
       "(52397, 281)"
      ]
     },
     "execution_count": 77,
     "metadata": {},
     "output_type": "execute_result"
    }
   ],
   "source": [
    "df_train.shape"
   ]
  },
  {
   "cell_type": "code",
   "execution_count": 78,
   "id": "7ba0556c-68e9-4da9-8a21-0b0457d22786",
   "metadata": {},
   "outputs": [],
   "source": [
    "df_test = get_files(path, test_dataset = True) # Train dataset"
   ]
  },
  {
   "cell_type": "code",
   "execution_count": 79,
   "id": "b5e09a8d-e4dd-4e98-bd53-649427764106",
   "metadata": {},
   "outputs": [
    {
     "data": {
      "text/plain": [
       "(7624, 281)"
      ]
     },
     "execution_count": 79,
     "metadata": {},
     "output_type": "execute_result"
    }
   ],
   "source": [
    "df_test.shape"
   ]
  },
  {
   "cell_type": "code",
   "execution_count": 80,
   "id": "6e657f4b-caef-4a96-a58e-d723e3b2f9b0",
   "metadata": {},
   "outputs": [
    {
     "data": {
      "text/plain": [
       "0.14550451361719183"
      ]
     },
     "execution_count": 80,
     "metadata": {},
     "output_type": "execute_result"
    }
   ],
   "source": [
    "df_test.shape[0] / df_train.shape[0]  # 14,5 % is test_dataset"
   ]
  },
  {
   "cell_type": "code",
   "execution_count": null,
   "id": "2946899c-41f3-470e-bc81-135f9dcf6b13",
   "metadata": {},
   "outputs": [],
   "source": []
  },
  {
   "cell_type": "code",
   "execution_count": 41,
   "id": "2ead5dd5-9980-4352-971f-d6d78da82015",
   "metadata": {},
   "outputs": [],
   "source": []
  },
  {
   "cell_type": "code",
   "execution_count": 46,
   "id": "c5b3d0d9-1853-4b77-8494-0fbcd96d0621",
   "metadata": {},
   "outputs": [
    {
     "data": {
      "text/html": [
       "<div>\n",
       "<style scoped>\n",
       "    .dataframe tbody tr th:only-of-type {\n",
       "        vertical-align: middle;\n",
       "    }\n",
       "\n",
       "    .dataframe tbody tr th {\n",
       "        vertical-align: top;\n",
       "    }\n",
       "\n",
       "    .dataframe thead th {\n",
       "        text-align: right;\n",
       "    }\n",
       "</style>\n",
       "<table border=\"1\" class=\"dataframe\">\n",
       "  <thead>\n",
       "    <tr style=\"text-align: right;\">\n",
       "      <th></th>\n",
       "      <th>0</th>\n",
       "      <th>1</th>\n",
       "      <th>2</th>\n",
       "      <th>3</th>\n",
       "      <th>4</th>\n",
       "      <th>5</th>\n",
       "      <th>6</th>\n",
       "      <th>7</th>\n",
       "      <th>8</th>\n",
       "      <th>9</th>\n",
       "      <th>...</th>\n",
       "      <th>271</th>\n",
       "      <th>272</th>\n",
       "      <th>273</th>\n",
       "      <th>274</th>\n",
       "      <th>275</th>\n",
       "      <th>276</th>\n",
       "      <th>277</th>\n",
       "      <th>278</th>\n",
       "      <th>279</th>\n",
       "      <th>280</th>\n",
       "    </tr>\n",
       "  </thead>\n",
       "  <tbody>\n",
       "    <tr>\n",
       "      <th>7619</th>\n",
       "      <td>0.000000</td>\n",
       "      <td>0.00000</td>\n",
       "      <td>0.0</td>\n",
       "      <td>0.0</td>\n",
       "      <td>0.0</td>\n",
       "      <td>0.000000</td>\n",
       "      <td>0.000000</td>\n",
       "      <td>0.0</td>\n",
       "      <td>0.0</td>\n",
       "      <td>0.0</td>\n",
       "      <td>...</td>\n",
       "      <td>0.0</td>\n",
       "      <td>0.0</td>\n",
       "      <td>0.0</td>\n",
       "      <td>0.0</td>\n",
       "      <td>1.0</td>\n",
       "      <td>0.0</td>\n",
       "      <td>0.0</td>\n",
       "      <td>0.0</td>\n",
       "      <td>0.0</td>\n",
       "      <td>0.0</td>\n",
       "    </tr>\n",
       "    <tr>\n",
       "      <th>7620</th>\n",
       "      <td>6.004717</td>\n",
       "      <td>37.53244</td>\n",
       "      <td>0.0</td>\n",
       "      <td>347.0</td>\n",
       "      <td>0.0</td>\n",
       "      <td>2.603774</td>\n",
       "      <td>19.723646</td>\n",
       "      <td>0.0</td>\n",
       "      <td>223.0</td>\n",
       "      <td>0.0</td>\n",
       "      <td>...</td>\n",
       "      <td>0.0</td>\n",
       "      <td>0.0</td>\n",
       "      <td>0.0</td>\n",
       "      <td>1.0</td>\n",
       "      <td>0.0</td>\n",
       "      <td>0.0</td>\n",
       "      <td>0.0</td>\n",
       "      <td>0.0</td>\n",
       "      <td>0.0</td>\n",
       "      <td>0.0</td>\n",
       "    </tr>\n",
       "    <tr>\n",
       "      <th>7621</th>\n",
       "      <td>38.200640</td>\n",
       "      <td>75.51692</td>\n",
       "      <td>0.0</td>\n",
       "      <td>723.0</td>\n",
       "      <td>15.0</td>\n",
       "      <td>16.194221</td>\n",
       "      <td>44.316776</td>\n",
       "      <td>0.0</td>\n",
       "      <td>547.0</td>\n",
       "      <td>4.0</td>\n",
       "      <td>...</td>\n",
       "      <td>0.0</td>\n",
       "      <td>0.0</td>\n",
       "      <td>0.0</td>\n",
       "      <td>0.0</td>\n",
       "      <td>1.0</td>\n",
       "      <td>0.0</td>\n",
       "      <td>0.0</td>\n",
       "      <td>0.0</td>\n",
       "      <td>0.0</td>\n",
       "      <td>14.0</td>\n",
       "    </tr>\n",
       "    <tr>\n",
       "      <th>7622</th>\n",
       "      <td>9.080925</td>\n",
       "      <td>11.22880</td>\n",
       "      <td>0.0</td>\n",
       "      <td>97.0</td>\n",
       "      <td>6.0</td>\n",
       "      <td>3.641618</td>\n",
       "      <td>6.549403</td>\n",
       "      <td>0.0</td>\n",
       "      <td>97.0</td>\n",
       "      <td>2.0</td>\n",
       "      <td>...</td>\n",
       "      <td>0.0</td>\n",
       "      <td>0.0</td>\n",
       "      <td>0.0</td>\n",
       "      <td>1.0</td>\n",
       "      <td>0.0</td>\n",
       "      <td>0.0</td>\n",
       "      <td>0.0</td>\n",
       "      <td>0.0</td>\n",
       "      <td>0.0</td>\n",
       "      <td>0.0</td>\n",
       "    </tr>\n",
       "    <tr>\n",
       "      <th>7623</th>\n",
       "      <td>0.000000</td>\n",
       "      <td>0.00000</td>\n",
       "      <td>0.0</td>\n",
       "      <td>0.0</td>\n",
       "      <td>0.0</td>\n",
       "      <td>0.000000</td>\n",
       "      <td>0.000000</td>\n",
       "      <td>0.0</td>\n",
       "      <td>0.0</td>\n",
       "      <td>0.0</td>\n",
       "      <td>...</td>\n",
       "      <td>0.0</td>\n",
       "      <td>0.0</td>\n",
       "      <td>0.0</td>\n",
       "      <td>0.0</td>\n",
       "      <td>0.0</td>\n",
       "      <td>0.0</td>\n",
       "      <td>0.0</td>\n",
       "      <td>0.0</td>\n",
       "      <td>0.0</td>\n",
       "      <td>0.0</td>\n",
       "    </tr>\n",
       "  </tbody>\n",
       "</table>\n",
       "<p>5 rows × 281 columns</p>\n",
       "</div>"
      ],
      "text/plain": [
       "            0         1    2      3     4          5          6    7      8    \\\n",
       "7619   0.000000   0.00000  0.0    0.0   0.0   0.000000   0.000000  0.0    0.0   \n",
       "7620   6.004717  37.53244  0.0  347.0   0.0   2.603774  19.723646  0.0  223.0   \n",
       "7621  38.200640  75.51692  0.0  723.0  15.0  16.194221  44.316776  0.0  547.0   \n",
       "7622   9.080925  11.22880  0.0   97.0   6.0   3.641618   6.549403  0.0   97.0   \n",
       "7623   0.000000   0.00000  0.0    0.0   0.0   0.000000   0.000000  0.0    0.0   \n",
       "\n",
       "      9    ...  271  272  273  274  275  276  277  278  279   280  \n",
       "7619  0.0  ...  0.0  0.0  0.0  0.0  1.0  0.0  0.0  0.0  0.0   0.0  \n",
       "7620  0.0  ...  0.0  0.0  0.0  1.0  0.0  0.0  0.0  0.0  0.0   0.0  \n",
       "7621  4.0  ...  0.0  0.0  0.0  0.0  1.0  0.0  0.0  0.0  0.0  14.0  \n",
       "7622  2.0  ...  0.0  0.0  0.0  1.0  0.0  0.0  0.0  0.0  0.0   0.0  \n",
       "7623  0.0  ...  0.0  0.0  0.0  0.0  0.0  0.0  0.0  0.0  0.0   0.0  \n",
       "\n",
       "[5 rows x 281 columns]"
      ]
     },
     "execution_count": 46,
     "metadata": {},
     "output_type": "execute_result"
    }
   ],
   "source": [
    "df_test.tail()"
   ]
  },
  {
   "cell_type": "code",
   "execution_count": 44,
   "id": "eacd8c95-5597-4aad-9b56-8f5d494eccb7",
   "metadata": {},
   "outputs": [
    {
     "data": {
      "text/plain": [
       "(7624, 281)"
      ]
     },
     "execution_count": 44,
     "metadata": {},
     "output_type": "execute_result"
    }
   ],
   "source": [
    "df_test.shape"
   ]
  },
  {
   "cell_type": "code",
   "execution_count": null,
   "id": "89269274-3aef-49cc-9fdc-80dca6a6f531",
   "metadata": {},
   "outputs": [],
   "source": []
  },
  {
   "cell_type": "code",
   "execution_count": 36,
   "id": "a4063c22-5ff0-4c57-886c-971edd8b2b6a",
   "metadata": {},
   "outputs": [],
   "source": [
    "test = pd.read_csv('../01_Blog_Feedback/blogData_test-2012.02.28.00_00.csv', header=None)"
   ]
  },
  {
   "cell_type": "code",
   "execution_count": 37,
   "id": "b9198211-80a8-4373-8db1-14beaa51771f",
   "metadata": {},
   "outputs": [
    {
     "data": {
      "text/html": [
       "<div>\n",
       "<style scoped>\n",
       "    .dataframe tbody tr th:only-of-type {\n",
       "        vertical-align: middle;\n",
       "    }\n",
       "\n",
       "    .dataframe tbody tr th {\n",
       "        vertical-align: top;\n",
       "    }\n",
       "\n",
       "    .dataframe thead th {\n",
       "        text-align: right;\n",
       "    }\n",
       "</style>\n",
       "<table border=\"1\" class=\"dataframe\">\n",
       "  <thead>\n",
       "    <tr style=\"text-align: right;\">\n",
       "      <th></th>\n",
       "      <th>0</th>\n",
       "      <th>1</th>\n",
       "      <th>2</th>\n",
       "      <th>3</th>\n",
       "      <th>4</th>\n",
       "      <th>5</th>\n",
       "      <th>6</th>\n",
       "      <th>7</th>\n",
       "      <th>8</th>\n",
       "      <th>9</th>\n",
       "      <th>...</th>\n",
       "      <th>271</th>\n",
       "      <th>272</th>\n",
       "      <th>273</th>\n",
       "      <th>274</th>\n",
       "      <th>275</th>\n",
       "      <th>276</th>\n",
       "      <th>277</th>\n",
       "      <th>278</th>\n",
       "      <th>279</th>\n",
       "      <th>280</th>\n",
       "    </tr>\n",
       "  </thead>\n",
       "  <tbody>\n",
       "    <tr>\n",
       "      <th>0</th>\n",
       "      <td>0.102564</td>\n",
       "      <td>0.441145</td>\n",
       "      <td>0.0</td>\n",
       "      <td>2.0</td>\n",
       "      <td>0.0</td>\n",
       "      <td>0.051282</td>\n",
       "      <td>0.316124</td>\n",
       "      <td>0.0</td>\n",
       "      <td>2.0</td>\n",
       "      <td>0.0</td>\n",
       "      <td>...</td>\n",
       "      <td>0.0</td>\n",
       "      <td>0.0</td>\n",
       "      <td>0.0</td>\n",
       "      <td>0.0</td>\n",
       "      <td>0.0</td>\n",
       "      <td>0.0</td>\n",
       "      <td>0.0</td>\n",
       "      <td>0.0</td>\n",
       "      <td>0.0</td>\n",
       "      <td>0.0</td>\n",
       "    </tr>\n",
       "    <tr>\n",
       "      <th>1</th>\n",
       "      <td>12.952789</td>\n",
       "      <td>23.260280</td>\n",
       "      <td>0.0</td>\n",
       "      <td>168.0</td>\n",
       "      <td>4.0</td>\n",
       "      <td>4.995708</td>\n",
       "      <td>13.574622</td>\n",
       "      <td>0.0</td>\n",
       "      <td>142.0</td>\n",
       "      <td>0.0</td>\n",
       "      <td>...</td>\n",
       "      <td>0.0</td>\n",
       "      <td>0.0</td>\n",
       "      <td>0.0</td>\n",
       "      <td>0.0</td>\n",
       "      <td>0.0</td>\n",
       "      <td>0.0</td>\n",
       "      <td>0.0</td>\n",
       "      <td>0.0</td>\n",
       "      <td>0.0</td>\n",
       "      <td>9.0</td>\n",
       "    </tr>\n",
       "    <tr>\n",
       "      <th>2</th>\n",
       "      <td>43.435825</td>\n",
       "      <td>75.590485</td>\n",
       "      <td>0.0</td>\n",
       "      <td>634.0</td>\n",
       "      <td>20.0</td>\n",
       "      <td>15.998589</td>\n",
       "      <td>44.560870</td>\n",
       "      <td>0.0</td>\n",
       "      <td>473.0</td>\n",
       "      <td>2.0</td>\n",
       "      <td>...</td>\n",
       "      <td>0.0</td>\n",
       "      <td>0.0</td>\n",
       "      <td>0.0</td>\n",
       "      <td>1.0</td>\n",
       "      <td>0.0</td>\n",
       "      <td>0.0</td>\n",
       "      <td>0.0</td>\n",
       "      <td>0.0</td>\n",
       "      <td>0.0</td>\n",
       "      <td>0.0</td>\n",
       "    </tr>\n",
       "    <tr>\n",
       "      <th>3</th>\n",
       "      <td>9.689655</td>\n",
       "      <td>48.727320</td>\n",
       "      <td>0.0</td>\n",
       "      <td>300.0</td>\n",
       "      <td>0.0</td>\n",
       "      <td>3.747126</td>\n",
       "      <td>23.105066</td>\n",
       "      <td>0.0</td>\n",
       "      <td>189.0</td>\n",
       "      <td>0.0</td>\n",
       "      <td>...</td>\n",
       "      <td>0.0</td>\n",
       "      <td>0.0</td>\n",
       "      <td>0.0</td>\n",
       "      <td>1.0</td>\n",
       "      <td>0.0</td>\n",
       "      <td>0.0</td>\n",
       "      <td>0.0</td>\n",
       "      <td>0.0</td>\n",
       "      <td>0.0</td>\n",
       "      <td>0.0</td>\n",
       "    </tr>\n",
       "    <tr>\n",
       "      <th>4</th>\n",
       "      <td>0.000000</td>\n",
       "      <td>0.000000</td>\n",
       "      <td>0.0</td>\n",
       "      <td>0.0</td>\n",
       "      <td>0.0</td>\n",
       "      <td>0.000000</td>\n",
       "      <td>0.000000</td>\n",
       "      <td>0.0</td>\n",
       "      <td>0.0</td>\n",
       "      <td>0.0</td>\n",
       "      <td>...</td>\n",
       "      <td>0.0</td>\n",
       "      <td>0.0</td>\n",
       "      <td>0.0</td>\n",
       "      <td>0.0</td>\n",
       "      <td>0.0</td>\n",
       "      <td>1.0</td>\n",
       "      <td>0.0</td>\n",
       "      <td>0.0</td>\n",
       "      <td>0.0</td>\n",
       "      <td>0.0</td>\n",
       "    </tr>\n",
       "  </tbody>\n",
       "</table>\n",
       "<p>5 rows × 281 columns</p>\n",
       "</div>"
      ],
      "text/plain": [
       "         0          1    2      3     4          5          6    7      8    \\\n",
       "0   0.102564   0.441145  0.0    2.0   0.0   0.051282   0.316124  0.0    2.0   \n",
       "1  12.952789  23.260280  0.0  168.0   4.0   4.995708  13.574622  0.0  142.0   \n",
       "2  43.435825  75.590485  0.0  634.0  20.0  15.998589  44.560870  0.0  473.0   \n",
       "3   9.689655  48.727320  0.0  300.0   0.0   3.747126  23.105066  0.0  189.0   \n",
       "4   0.000000   0.000000  0.0    0.0   0.0   0.000000   0.000000  0.0    0.0   \n",
       "\n",
       "   9    ...  271  272  273  274  275  276  277  278  279  280  \n",
       "0  0.0  ...  0.0  0.0  0.0  0.0  0.0  0.0  0.0  0.0  0.0  0.0  \n",
       "1  0.0  ...  0.0  0.0  0.0  0.0  0.0  0.0  0.0  0.0  0.0  9.0  \n",
       "2  2.0  ...  0.0  0.0  0.0  1.0  0.0  0.0  0.0  0.0  0.0  0.0  \n",
       "3  0.0  ...  0.0  0.0  0.0  1.0  0.0  0.0  0.0  0.0  0.0  0.0  \n",
       "4  0.0  ...  0.0  0.0  0.0  0.0  0.0  1.0  0.0  0.0  0.0  0.0  \n",
       "\n",
       "[5 rows x 281 columns]"
      ]
     },
     "execution_count": 37,
     "metadata": {},
     "output_type": "execute_result"
    }
   ],
   "source": [
    "test.head()"
   ]
  },
  {
   "cell_type": "code",
   "execution_count": 38,
   "id": "f07a6864-0e9f-41d9-b564-34c6c295769e",
   "metadata": {},
   "outputs": [],
   "source": [
    "serias = [test[0]]"
   ]
  },
  {
   "cell_type": "code",
   "execution_count": 39,
   "id": "75995a97-ca85-46fd-a554-eeb9b657fea7",
   "metadata": {},
   "outputs": [
    {
     "data": {
      "text/plain": [
       "[0      0.102564\n",
       " 1     12.952789\n",
       " 2     43.435825\n",
       " 3      9.689655\n",
       " 4      0.000000\n",
       "         ...    \n",
       " 90     0.000000\n",
       " 91     6.004717\n",
       " 92    38.200640\n",
       " 93     9.080925\n",
       " 94     0.000000\n",
       " Name: 0, Length: 95, dtype: float64]"
      ]
     },
     "execution_count": 39,
     "metadata": {},
     "output_type": "execute_result"
    }
   ],
   "source": []
  },
  {
   "cell_type": "code",
   "execution_count": null,
   "id": "33bab4ed-cea0-41b5-9478-79216cbe18ea",
   "metadata": {},
   "outputs": [],
   "source": []
  },
  {
   "cell_type": "code",
   "execution_count": null,
   "id": "ae29ea7c-b571-4577-8616-d4a9920ccbab",
   "metadata": {},
   "outputs": [],
   "source": []
  },
  {
   "cell_type": "code",
   "execution_count": null,
   "id": "fe8b208a-7bb2-49bf-8e65-404242488e56",
   "metadata": {},
   "outputs": [],
   "source": []
  },
  {
   "cell_type": "code",
   "execution_count": null,
   "id": "c9aeee3b-3f7f-479c-a585-12e809fcf9af",
   "metadata": {},
   "outputs": [],
   "source": []
  },
  {
   "cell_type": "code",
   "execution_count": null,
   "id": "684f3d01-042c-4d8b-bfaa-548e2992ef20",
   "metadata": {},
   "outputs": [],
   "source": []
  },
  {
   "cell_type": "code",
   "execution_count": null,
   "id": "a762f150-5960-456e-bf63-5b442453eb0b",
   "metadata": {},
   "outputs": [],
   "source": []
  },
  {
   "cell_type": "code",
   "execution_count": null,
   "id": "ed91b261-03a2-45a5-b8bd-eea00a34dc1c",
   "metadata": {},
   "outputs": [],
   "source": []
  }
 ],
 "metadata": {
  "kernelspec": {
   "display_name": "Python 3 (ipykernel)",
   "language": "python",
   "name": "python3"
  },
  "language_info": {
   "codemirror_mode": {
    "name": "ipython",
    "version": 3
   },
   "file_extension": ".py",
   "mimetype": "text/x-python",
   "name": "python",
   "nbconvert_exporter": "python",
   "pygments_lexer": "ipython3",
   "version": "3.9.13"
  }
 },
 "nbformat": 4,
 "nbformat_minor": 5
}
